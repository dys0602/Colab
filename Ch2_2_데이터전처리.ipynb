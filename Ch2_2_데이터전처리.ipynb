{
  "nbformat": 4,
  "nbformat_minor": 0,
  "metadata": {
    "colab": {
      "name": "Ch2-2. 데이터전처리",
      "provenance": [],
      "collapsed_sections": [],
      "authorship_tag": "ABX9TyO1BGqObN2DrKM4ek3JhO9u",
      "include_colab_link": true
    },
    "kernelspec": {
      "name": "python3",
      "display_name": "Python 3"
    }
  },
  "cells": [
    {
      "cell_type": "markdown",
      "metadata": {
        "id": "view-in-github",
        "colab_type": "text"
      },
      "source": [
        "<a href=\"https://colab.research.google.com/github/dys0602/Colab/blob/main/Ch2_2_%EB%8D%B0%EC%9D%B4%ED%84%B0%EC%A0%84%EC%B2%98%EB%A6%AC.ipynb\" target=\"_parent\"><img src=\"https://colab.research.google.com/assets/colab-badge.svg\" alt=\"Open In Colab\"/></a>"
      ]
    },
    {
      "cell_type": "code",
      "metadata": {
        "id": "jlz2Ntzx_S22"
      },
      "source": [
        "fish_length = [25.4, 26.3, 26.5, 29.0, 29.0, 29.7, 29.7, 30.0, 30.0, 30.7, 31.0, 31.0, \r\n",
        "                31.5, 32.0, 32.0, 32.0, 33.0, 33.0, 33.5, 33.5, 34.0, 34.0, 34.5, 35.0, \r\n",
        "                35.0, 35.0, 35.0, 36.0, 36.0, 37.0, 38.5, 38.5, 39.5, 41.0, 41.0, 9.8, \r\n",
        "                10.5, 10.6, 11.0, 11.2, 11.3, 11.8, 11.8, 12.0, 12.2, 12.4, 13.0, 14.3, 15.0]\r\n",
        "fish_weight = [242.0, 290.0, 340.0, 363.0, 430.0, 450.0, 500.0, 390.0, 450.0, 500.0, 475.0, 500.0, \r\n",
        "                500.0, 340.0, 600.0, 600.0, 700.0, 700.0, 610.0, 650.0, 575.0, 685.0, 620.0, 680.0, \r\n",
        "                700.0, 725.0, 720.0, 714.0, 850.0, 1000.0, 920.0, 955.0, 925.0, 975.0, 950.0, 6.7, \r\n",
        "                7.5, 7.0, 9.7, 9.8, 8.7, 10.0, 9.9, 9.8, 12.2, 13.4, 12.2, 19.7, 19.9]"
      ],
      "execution_count": 1,
      "outputs": []
    },
    {
      "cell_type": "markdown",
      "metadata": {
        "id": "0HETwnKyDks1"
      },
      "source": [
        "**넘파이로 데이터 준비하기**"
      ]
    },
    {
      "cell_type": "code",
      "metadata": {
        "id": "qeHQqhOUB21x"
      },
      "source": [
        "import numpy as np"
      ],
      "execution_count": 2,
      "outputs": []
    },
    {
      "cell_type": "code",
      "metadata": {
        "id": "HIKU3fqDB7Nr"
      },
      "source": [
        "fish_data = np.column_stack((fish_length, fish_weight)) #column_stack() : 전달받은 리스트를 일렬로 세운 다음 차례대로 나란히 연결, 연결할 리스트는 파이썬 튜플로 전달"
      ],
      "execution_count": 4,
      "outputs": []
    },
    {
      "cell_type": "code",
      "metadata": {
        "colab": {
          "base_uri": "https://localhost:8080/"
        },
        "id": "rM9OcL9aCRu_",
        "outputId": "6f2834c8-73f7-4e57-d5b5-1718e7d83471"
      },
      "source": [
        "print(fish_data[:5]) #0~4번째 인덱스 데이터 print"
      ],
      "execution_count": 6,
      "outputs": [
        {
          "output_type": "stream",
          "text": [
            "[[ 25.4 242. ]\n",
            " [ 26.3 290. ]\n",
            " [ 26.5 340. ]\n",
            " [ 29.  363. ]\n",
            " [ 29.  430. ]]\n"
          ],
          "name": "stdout"
        }
      ]
    },
    {
      "cell_type": "code",
      "metadata": {
        "id": "vCi-dDckCaBG"
      },
      "source": [
        "fish_target = np.concatenate((np.ones(35), np.zeros(14))) #np.concatenate() : 첫 번째 차원을 따라 배열을 연결하는 함수\r\n",
        "#np.ones()와 np.zeros()는 원하는 개수의 1과 0을 채운 배열 만들기"
      ],
      "execution_count": 8,
      "outputs": []
    },
    {
      "cell_type": "code",
      "metadata": {
        "colab": {
          "base_uri": "https://localhost:8080/"
        },
        "id": "TTaVNjRTCVKo",
        "outputId": "5b68ad21-4070-4b64-bf88-dcad85da4885"
      },
      "source": [
        "print(fish_target)"
      ],
      "execution_count": 9,
      "outputs": [
        {
          "output_type": "stream",
          "text": [
            "[1. 1. 1. 1. 1. 1. 1. 1. 1. 1. 1. 1. 1. 1. 1. 1. 1. 1. 1. 1. 1. 1. 1. 1.\n",
            " 1. 1. 1. 1. 1. 1. 1. 1. 1. 1. 1. 0. 0. 0. 0. 0. 0. 0. 0. 0. 0. 0. 0. 0.\n",
            " 0.]\n"
          ],
          "name": "stdout"
        }
      ]
    },
    {
      "cell_type": "markdown",
      "metadata": {
        "id": "ad3Q88siDp8W"
      },
      "source": [
        "**사이킷런으로 훈련 세트와 테스트 세트 나누기**"
      ]
    },
    {
      "cell_type": "code",
      "metadata": {
        "id": "Euxnu3NLDPot"
      },
      "source": [
        "from sklearn.model_selection import train_test_split #train_test_split() : 전달되는 리스트나 배열을 비율에 맞게 훈련 세트와 테스트 세트로 섞어서 나눠줌"
      ],
      "execution_count": 11,
      "outputs": []
    },
    {
      "cell_type": "code",
      "metadata": {
        "id": "Se8eo-8xDxyb"
      },
      "source": [
        "train_input, test_input, train_target, test_target = train_test_split(fish_data, fish_target, random_state=42)"
      ],
      "execution_count": 13,
      "outputs": []
    },
    {
      "cell_type": "code",
      "metadata": {
        "colab": {
          "base_uri": "https://localhost:8080/"
        },
        "id": "2h0eRNQoEPRf",
        "outputId": "5194c9ff-8245-4e62-d64a-d8ff061f1eb5"
      },
      "source": [
        "print(train_input.shape, test_input.shape) #2차원 배열"
      ],
      "execution_count": 14,
      "outputs": [
        {
          "output_type": "stream",
          "text": [
            "(36, 2) (13, 2)\n"
          ],
          "name": "stdout"
        }
      ]
    },
    {
      "cell_type": "code",
      "metadata": {
        "colab": {
          "base_uri": "https://localhost:8080/"
        },
        "id": "5pOlupvmEhcW",
        "outputId": "abba9336-2971-47b3-827a-8614fb09bdac"
      },
      "source": [
        "print(train_target.shape, test_target.shape) #1차원 배열"
      ],
      "execution_count": 15,
      "outputs": [
        {
          "output_type": "stream",
          "text": [
            "(36,) (13,)\n"
          ],
          "name": "stdout"
        }
      ]
    },
    {
      "cell_type": "code",
      "metadata": {
        "colab": {
          "base_uri": "https://localhost:8080/"
        },
        "id": "spmcyTf9DLMk",
        "outputId": "c29a376a-2cb8-4880-e6cf-1a3bd766170d"
      },
      "source": [
        "#도미와 빙어가 잘 섞였는지 테스트 데이터 출력\r\n",
        "print(test_target) #원래 데이터 비율은 35:14=2.5:1인데, 테스트 비율은 3.3:1로 샘플링 편향 조금 나타남"
      ],
      "execution_count": 16,
      "outputs": [
        {
          "output_type": "stream",
          "text": [
            "[1. 0. 0. 0. 1. 1. 1. 1. 1. 1. 1. 1. 1.]\n"
          ],
          "name": "stdout"
        }
      ]
    },
    {
      "cell_type": "code",
      "metadata": {
        "id": "WK6yM3qQExSW"
      },
      "source": [
        "train_input, test_input, train_target, test_target = train_test_split(fish_data, fish_target, stratify=fish_target, random_state=42)\r\n",
        "#훈련 세트와 테스트 세트에 샘플의 클래스 비율이 일정하게 하기 위해 stratify 매개변수에 타깃 데이터 전달해서 클래스 비율에 맞게 데이터 나누기"
      ],
      "execution_count": 17,
      "outputs": []
    },
    {
      "cell_type": "code",
      "metadata": {
        "colab": {
          "base_uri": "https://localhost:8080/"
        },
        "id": "11UMUCI0DIwH",
        "outputId": "b460a6fd-fff4-48ce-89f7-ec0406d7a7ab"
      },
      "source": [
        "print(test_target) #테스트 비율이 2.25:1로 전체 훈련 데이터 비율과 비슷한 비율이 됨"
      ],
      "execution_count": 19,
      "outputs": [
        {
          "output_type": "stream",
          "text": [
            "[0. 0. 1. 0. 1. 0. 1. 1. 1. 1. 1. 1. 1.]\n"
          ],
          "name": "stdout"
        }
      ]
    },
    {
      "cell_type": "markdown",
      "metadata": {
        "id": "LoeltsE0Fzh4"
      },
      "source": [
        "**수상한 도미 한 마리**"
      ]
    },
    {
      "cell_type": "code",
      "metadata": {
        "colab": {
          "base_uri": "https://localhost:8080/"
        },
        "id": "oUGqqwddFsfL",
        "outputId": "d9b4d2d1-6d7e-449e-bf46-99a0aa584678"
      },
      "source": [
        "#k-최근접 이웃 훈련\r\n",
        "from sklearn.neighbors import KNeighborsClassifier\r\n",
        "kn = KNeighborsClassifier()\r\n",
        "kn.fit(train_input, train_target)\r\n",
        "kn.score(test_input, test_target)"
      ],
      "execution_count": 20,
      "outputs": [
        {
          "output_type": "execute_result",
          "data": {
            "text/plain": [
              "1.0"
            ]
          },
          "metadata": {
            "tags": []
          },
          "execution_count": 20
        }
      ]
    },
    {
      "cell_type": "code",
      "metadata": {
        "colab": {
          "base_uri": "https://localhost:8080/"
        },
        "id": "UA_F9WZKGLHI",
        "outputId": "3906e1a3-1fcb-4861-88e3-84625b5fec37"
      },
      "source": [
        "print(kn.predict([[25, 150]])) #새로운 도미 데이터 넣고 결과 확인 -> 빙어로 예측"
      ],
      "execution_count": 21,
      "outputs": [
        {
          "output_type": "stream",
          "text": [
            "[0.]\n"
          ],
          "name": "stdout"
        }
      ]
    },
    {
      "cell_type": "code",
      "metadata": {
        "colab": {
          "base_uri": "https://localhost:8080/",
          "height": 279
        },
        "id": "PQ_EHjDfGP3H",
        "outputId": "37b3e616-7fb8-473c-9a9c-57d3907be7f0"
      },
      "source": [
        "import matplotlib.pyplot as plt\r\n",
        "plt.scatter(train_input[:,0], train_input[:,1])\r\n",
        "plt.scatter(25, 150, marker='^') #marker 매개변수는 모양 지정\r\n",
        "plt.xlabel('length')\r\n",
        "plt.ylabel('weight')\r\n",
        "plt.show()"
      ],
      "execution_count": 22,
      "outputs": [
        {
          "output_type": "display_data",
          "data": {
            "image/png": "[encoded data removed]",
            "text/plain": [
              "<Figure size 432x288 with 1 Axes>"
            ]
          },
          "metadata": {
            "tags": [],
            "needs_background": "light"
          }
        }
      ]
    },
    {
      "cell_type": "code",
      "metadata": {
        "id": "1oPvFbzpGyAA"
      },
      "source": [
        "distances, indexes = kn.kneighbors([[25,150]])"
      ],
      "execution_count": 23,
      "outputs": []
    },
    {
      "cell_type": "code",
      "metadata": {
        "colab": {
          "base_uri": "https://localhost:8080/",
          "height": 279
        },
        "id": "JbGZgrdBHAeg",
        "outputId": "2eacafb6-80ec-4354-e299-3e4d7ba61a3c"
      },
      "source": [
        "plt.scatter(train_input[:,0], train_input[:,1])\r\n",
        "plt.scatter(25, 150, marker='^') #marker 매개변수는 모양 지정\r\n",
        "plt.scatter(train_input[indexes,0], train_input[indexes,1], marker='D',c='y') #D = 마름모, 삼각형 샘플에 가장 가까운 5개의 샘플을 노란색 마름모로 표시\r\n",
        "plt.xlabel('length')\r\n",
        "plt.ylabel('weight')\r\n",
        "plt.show()"
      ],
      "execution_count": 28,
      "outputs": [
        {
          "output_type": "display_data",
          "data": {
            "image/png": "[encoded data removed]",
            "text/plain": [
              "<Figure size 432x288 with 1 Axes>"
            ]
          },
          "metadata": {
            "tags": [],
            "needs_background": "light"
          }
        }
      ]
    },
    {
      "cell_type": "code",
      "metadata": {
        "colab": {
          "base_uri": "https://localhost:8080/"
        },
        "id": "SAs_nX0vHzpe",
        "outputId": "f1b10fe7-8e58-45b3-b446-7a1a179a85c7"
      },
      "source": [
        "print(train_input[indexes])\r\n",
        "print(train_target[indexes]) #삼각형 샘플에 가까운 이웃은 빙어 4, 도미 1"
      ],
      "execution_count": 31,
      "outputs": [
        {
          "output_type": "stream",
          "text": [
            "[[[ 25.4 242. ]\n",
            "  [ 15.   19.9]\n",
            "  [ 14.3  19.7]\n",
            "  [ 13.   12.2]\n",
            "  [ 12.2  12.2]]]\n",
            "[[1. 0. 0. 0. 0.]]\n"
          ],
          "name": "stdout"
        }
      ]
    },
    {
      "cell_type": "code",
      "metadata": {
        "colab": {
          "base_uri": "https://localhost:8080/"
        },
        "id": "nisP7rVdIMbU",
        "outputId": "47bbc762-3bd1-4611-fbc5-9f0e2b3b73a2"
      },
      "source": [
        "print(distances) #해당 샘플과 이웃 샘플까지의 거리"
      ],
      "execution_count": 32,
      "outputs": [
        {
          "output_type": "stream",
          "text": [
            "[[ 92.00086956 130.48375378 130.73859415 138.32150953 138.39320793]]\n"
          ],
          "name": "stdout"
        }
      ]
    },
    {
      "cell_type": "markdown",
      "metadata": {
        "id": "1QnvXzy2IcOY"
      },
      "source": [
        "**기준을 맞춰라**"
      ]
    },
    {
      "cell_type": "code",
      "metadata": {
        "colab": {
          "base_uri": "https://localhost:8080/",
          "height": 279
        },
        "id": "pzqqpgF7IaUZ",
        "outputId": "c4852a8d-3892-4074-aba5-6aff128fa777"
      },
      "source": [
        "plt.scatter(train_input[:,0], train_input[:,1])\r\n",
        "plt.scatter(25, 150, marker='^') #marker 매개변수는 모양 지정\r\n",
        "plt.scatter(train_input[indexes,0], train_input[indexes,1], marker='D',c='y') #D = 마름모, 삼각형 샘플에 가장 가까운 5개의 샘플을 노란색 마름모로 표시\r\n",
        "plt.xlim((0,1000))\r\n",
        "plt.xlabel('length')\r\n",
        "plt.ylabel('weight')\r\n",
        "plt.show()"
      ],
      "execution_count": 33,
      "outputs": [
        {
          "output_type": "display_data",
          "data": {
            "image/png": "[encoded data removed]",
            "text/plain": [
              "<Figure size 432x288 with 1 Axes>"
            ]
          },
          "metadata": {
            "tags": [],
            "needs_background": "light"
          }
        }
      ]
    },
    {
      "cell_type": "markdown",
      "metadata": {
        "id": "zHiSwzBjI0dV"
      },
      "source": [
        "-> x,t축 범위를 동일하게 하면 산점도가 거의 일직선\r\n",
        "\r\n",
        "-> 오로지 생선의 무게(y축)만 고려 대상\r\n",
        "\r\n",
        "-> 두 특성(길이와 무게)의 값이 놓인 범위가 매우 다름 = 두 특성의 **스케일**이 다름\r\n",
        "\r\n",
        ": 샘플 간의 거리에 영향을 많이 받으므로 제대로 사용하려면 특성값을 일정한 기준에 맞춰 주어야 한다 = **\"데이터 전처리\"**"
      ]
    },
    {
      "cell_type": "markdown",
      "metadata": {
        "id": "EfSvcgquJpHT"
      },
      "source": [
        "###**데이터 전처리 방법**\r\n",
        "**표준점수(standard score, 혹은 z점수)**\r\n",
        "- 훈련 세트의 스케일을 바꾸는 대표적인 방법 중 하나. 표준점수 = (특성-평균)/표준편차\r\n",
        "-  각 특성값이 0에서 표준편차의 몇 배만큼 떨어져 있는지 나타내고, 이를 통해 실제 특성값의 크기와 상관없이 동일한 조건으로 비교 가능\r\n",
        "- 반드시 훈련세트의 평균과 표준편차로 테스트 세트를 바꿔야 함\r\n",
        "\r\n",
        "**브로드캐스팅**\r\n",
        "- 크기가 다른 넘파이 배열에서 자동으로 사칙연산을 모든 행이나 열로 확장하여 수행하는 기능 "
      ]
    },
    {
      "cell_type": "code",
      "metadata": {
        "id": "AFQ6RuvlIu6j"
      },
      "source": [
        "mean = np.mean(train_input, axis=0) #평균 계산\r\n",
        "std = np.std(train_input, axis=0) #표준편차 계산\r\n",
        "#특성마다 값의 스케일이 다르므로 평균가 표준편차는 각 특성별로 계산해야 함 -> axis=0 지정\r\n",
        "#axis=0 : 행을 따라 각 열의 통계값 계산 / axis=1 : 열을 따라 각 행의 통계값 계산(?)"
      ],
      "execution_count": 35,
      "outputs": []
    },
    {
      "cell_type": "code",
      "metadata": {
        "colab": {
          "base_uri": "https://localhost:8080/"
        },
        "id": "88hH1YSEMdNI",
        "outputId": "7a999fd9-a9b9-4e1f-a74e-98396440204a"
      },
      "source": [
        "print(mean, std)"
      ],
      "execution_count": 36,
      "outputs": [
        {
          "output_type": "stream",
          "text": [
            "[ 27.29722222 454.09722222] [  9.98244253 323.29893931]\n"
          ],
          "name": "stdout"
        }
      ]
    },
    {
      "cell_type": "code",
      "metadata": {
        "id": "wWvBlDufOwy8"
      },
      "source": [
        "train_scaled = (train_input-mean)/std \r\n",
        "#train_input의 모든 행에서 mean에 있는 두 평균 값을 빼주고 std로 나눠 모든 행에 적용 : 브로드캐스팅 (넘파이 기능)"
      ],
      "execution_count": 37,
      "outputs": []
    },
    {
      "cell_type": "markdown",
      "metadata": {
        "id": "3dZnZXpWQDNQ"
      },
      "source": [
        "**전처리 데이터로 모델 훈련하기**"
      ]
    },
    {
      "cell_type": "code",
      "metadata": {
        "colab": {
          "base_uri": "https://localhost:8080/",
          "height": 279
        },
        "id": "zZDh78ecO3RH",
        "outputId": "a8ba9db5-8123-4955-b346-5a1685fe9054"
      },
      "source": [
        "plt.scatter(train_scaled[:,0], train_scaled[:,1])\r\n",
        "plt.scatter(25, 150, marker='^')\r\n",
        "plt.xlabel('length')\r\n",
        "plt.ylabel('weight')\r\n",
        "plt.show()\r\n",
        "#샘플도 동일한 비율로 변환해야 함"
      ],
      "execution_count": 39,
      "outputs": [
        {
          "output_type": "display_data",
          "data": {
            "image/png": "[encoded data removed]",
            "text/plain": [
              "<Figure size 432x288 with 1 Axes>"
            ]
          },
          "metadata": {
            "tags": [],
            "needs_background": "light"
          }
        }
      ]
    },
    {
      "cell_type": "code",
      "metadata": {
        "colab": {
          "base_uri": "https://localhost:8080/",
          "height": 279
        },
        "id": "-m1dDo97QS6W",
        "outputId": "14288957-4ee2-4d3e-8148-3a105b982b49"
      },
      "source": [
        "new = ([25,160]- mean)/std\r\n",
        "plt.scatter(train_scaled[:,0], train_scaled[:,1])\r\n",
        "plt.scatter(new[0], new[1], marker='^')\r\n",
        "plt.xlabel('length')\r\n",
        "plt.ylabel('weight')\r\n",
        "plt.show()\r\n",
        "#xlim와 ylim이 -1.5~1.5 사이로 바뀜"
      ],
      "execution_count": 40,
      "outputs": [
        {
          "output_type": "display_data",
          "data": {
            "image/png": "[encoded data removed]",
            "text/plain": [
              "<Figure size 432x288 with 1 Axes>"
            ]
          },
          "metadata": {
            "tags": [],
            "needs_background": "light"
          }
        }
      ]
    },
    {
      "cell_type": "code",
      "metadata": {
        "colab": {
          "base_uri": "https://localhost:8080/"
        },
        "id": "l4-48fr0QnD0",
        "outputId": "47b36658-0d52-45e0-d6ec-468cefcfca72"
      },
      "source": [
        "#테스트 세트의 스케일도 변환해야 함\r\n",
        "test_scaled = (test_input-mean)/std\r\n",
        "kn.score(test_scaled, test_target)"
      ],
      "execution_count": 42,
      "outputs": [
        {
          "output_type": "execute_result",
          "data": {
            "text/plain": [
              "1.0"
            ]
          },
          "metadata": {
            "tags": []
          },
          "execution_count": 42
        }
      ]
    },
    {
      "cell_type": "code",
      "metadata": {
        "colab": {
          "base_uri": "https://localhost:8080/"
        },
        "id": "NJJVgXumRJNj",
        "outputId": "771e0723-4594-41db-8ef3-b92355b90380"
      },
      "source": [
        "print(kn.predict([new])) #새로운 샘플을 예측한 결과, 도미로 예측"
      ],
      "execution_count": 43,
      "outputs": [
        {
          "output_type": "stream",
          "text": [
            "[1.]\n"
          ],
          "name": "stdout"
        }
      ]
    },
    {
      "cell_type": "code",
      "metadata": {
        "colab": {
          "base_uri": "https://localhost:8080/",
          "height": 279
        },
        "id": "OJzXP127ROOU",
        "outputId": "d4f4e81a-fea8-41ab-b826-7fd908e58bd3"
      },
      "source": [
        "distances, indexes = kn.kneighbors([new])\r\n",
        "plt.scatter(train_scaled[:,0], train_scaled[:,1])\r\n",
        "plt.scatter(new[0], new[1], marker='^')\r\n",
        "plt.scatter(train_scaled[indexes,0], train_scaled[indexes, 1], marker='D', c='y')\r\n",
        "plt.xlabel('length')\r\n",
        "plt.ylabel('weight')\r\n",
        "plt.show()\r\n",
        "#샘플 데이터와 가까운 샘플 모두 도미 -> 도미로 예측하는 것이 당연\r\n",
        "#특성값의 스케일에 민감하지 않고 안정적인 예측을 할 수 있는 모델을 만들었음"
      ],
      "execution_count": 45,
      "outputs": [
        {
          "output_type": "display_data",
          "data": {
            "image/png": "[encoded data removed]",
            "text/plain": [
              "<Figure size 432x288 with 1 Axes>"
            ]
          },
          "metadata": {
            "tags": [],
            "needs_background": "light"
          }
        }
      ]
    }
  ]
}
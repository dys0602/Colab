{
  "nbformat": 4,
  "nbformat_minor": 0,
  "metadata": {
    "colab": {
      "name": "Ch7-2. 심층 신경망",
      "provenance": [],
      "authorship_tag": "ABX9TyNelEUNkw7sSPXwt9Tgmku5",
      "include_colab_link": true
    },
    "kernelspec": {
      "name": "python3",
      "display_name": "Python 3"
    }
  },
  "cells": [
    {
      "cell_type": "markdown",
      "metadata": {
        "id": "view-in-github",
        "colab_type": "text"
      },
      "source": [
        "<a href=\"https://colab.research.google.com/github/dys0602/Colab/blob/main/Ch7_2_%EC%8B%AC%EC%B8%B5_%EC%8B%A0%EA%B2%BD%EB%A7%9D.ipynb\" target=\"_parent\"><img src=\"https://colab.research.google.com/assets/colab-badge.svg\" alt=\"Open In Colab\"/></a>"
      ]
    },
    {
      "cell_type": "markdown",
      "metadata": {
        "id": "ATnUa_DVAu02"
      },
      "source": [
        "###**심층 신경망**"
      ]
    },
    {
      "cell_type": "code",
      "metadata": {
        "id": "MkenampdK34j",
        "colab": {
          "base_uri": "https://localhost:8080/"
        },
        "outputId": "9ae18535-bbc7-4875-b3bd-c8ee6013d680"
      },
      "source": [
        "from tensorflow import keras\r\n",
        "\r\n",
        "(train_input, train_target), (test_input, test_target) = keras.datasets.fashion_mnist.load_data()"
      ],
      "execution_count": 1,
      "outputs": [
        {
          "output_type": "stream",
          "text": [
            "Downloading data from https://storage.googleapis.com/tensorflow/tf-keras-datasets/train-labels-idx1-ubyte.gz\n",
            "32768/29515 [=================================] - 0s 0us/step\n",
            "Downloading data from https://storage.googleapis.com/tensorflow/tf-keras-datasets/train-images-idx3-ubyte.gz\n",
            "26427392/26421880 [==============================] - 0s 0us/step\n",
            "Downloading data from https://storage.googleapis.com/tensorflow/tf-keras-datasets/t10k-labels-idx1-ubyte.gz\n",
            "8192/5148 [===============================================] - 0s 0us/step\n",
            "Downloading data from https://storage.googleapis.com/tensorflow/tf-keras-datasets/t10k-images-idx3-ubyte.gz\n",
            "4423680/4422102 [==============================] - 0s 0us/step\n"
          ],
          "name": "stdout"
        }
      ]
    },
    {
      "cell_type": "code",
      "metadata": {
        "id": "UjFrcV48Ax9Y"
      },
      "source": [
        "from sklearn.model_selection import train_test_split\r\n",
        "\r\n",
        "train_scaled = train_input / 255.0\r\n",
        "train_scaled = train_scaled.reshape(-1, 28*28)\r\n",
        "\r\n",
        "train_scaled, val_scaled, train_target, val_target = train_test_split(\r\n",
        "    train_scaled, train_target, test_size=0.2, random_state=42)"
      ],
      "execution_count": 2,
      "outputs": []
    },
    {
      "cell_type": "code",
      "metadata": {
        "id": "qjG9UfmYBM66"
      },
      "source": [
        "dense1 = keras.layers.Dense(100, activation='sigmoid', input_shape=(784,)) #은닉층, 100개의 뉴런을 가진 밀집층(출력층의 뉴런보다 많아야 함)\r\n",
        "dense2 = keras.layers.Dense(10, activation='softmax') #출력층"
      ],
      "execution_count": 3,
      "outputs": []
    },
    {
      "cell_type": "markdown",
      "metadata": {
        "id": "SCYnsUdEF7Gk"
      },
      "source": [
        "**심층 신경망 만들기**"
      ]
    },
    {
      "cell_type": "code",
      "metadata": {
        "id": "fwu1RlvEF5nu"
      },
      "source": [
        "model = keras.Sequential([dense1, dense2]) #출력층을 가장 마지막에 두어야 함"
      ],
      "execution_count": 4,
      "outputs": []
    },
    {
      "cell_type": "code",
      "metadata": {
        "colab": {
          "base_uri": "https://localhost:8080/"
        },
        "id": "QRjF4EcCFgNx",
        "outputId": "2642adee-8bdf-468b-ca6a-2ea4c27fa0e2"
      },
      "source": [
        "model.summary()"
      ],
      "execution_count": 5,
      "outputs": [
        {
          "output_type": "stream",
          "text": [
            "Model: \"sequential\"\n",
            "_________________________________________________________________\n",
            "Layer (type)                 Output Shape              Param #   \n",
            "=================================================================\n",
            "dense (Dense)                (None, 100)               78500     \n",
            "_________________________________________________________________\n",
            "dense_1 (Dense)              (None, 10)                1010      \n",
            "=================================================================\n",
            "Total params: 79,510\n",
            "Trainable params: 79,510\n",
            "Non-trainable params: 0\n",
            "_________________________________________________________________\n"
          ],
          "name": "stdout"
        }
      ]
    },
    {
      "cell_type": "markdown",
      "metadata": {
        "id": "vrv2iXiaHRZF"
      },
      "source": [
        "**층을 추가하는 다른 방법**"
      ]
    },
    {
      "cell_type": "code",
      "metadata": {
        "id": "GZfu1UAkGRxR"
      },
      "source": [
        "model = keras.Sequential([keras.layers.Dense(100, activation='sigmoid', input_shape=(784,), name = 'hidden'),\r\n",
        "                          keras.layers.Dense(10, activation='softmax', name='output')], name='패션 MNIST 모델')"
      ],
      "execution_count": 6,
      "outputs": []
    },
    {
      "cell_type": "code",
      "metadata": {
        "colab": {
          "base_uri": "https://localhost:8080/"
        },
        "id": "rTGpROqvHsWi",
        "outputId": "64a062b1-c61c-4064-d022-5367d5cea6ef"
      },
      "source": [
        "model.summary()"
      ],
      "execution_count": 7,
      "outputs": [
        {
          "output_type": "stream",
          "text": [
            "Model: \"패션 MNIST 모델\"\n",
            "_________________________________________________________________\n",
            "Layer (type)                 Output Shape              Param #   \n",
            "=================================================================\n",
            "hidden (Dense)               (None, 100)               78500     \n",
            "_________________________________________________________________\n",
            "output (Dense)               (None, 10)                1010      \n",
            "=================================================================\n",
            "Total params: 79,510\n",
            "Trainable params: 79,510\n",
            "Non-trainable params: 0\n",
            "_________________________________________________________________\n"
          ],
          "name": "stdout"
        }
      ]
    },
    {
      "cell_type": "code",
      "metadata": {
        "id": "RWqpAb0THun0"
      },
      "source": [
        "model = keras.Sequential()\r\n",
        "model.add(keras.layers.Dense(100, activation='sigmoid', input_shape=(784,)))\r\n",
        "model.add(keras.layers.Dense(10, activation='softmax'))"
      ],
      "execution_count": 8,
      "outputs": []
    },
    {
      "cell_type": "code",
      "metadata": {
        "colab": {
          "base_uri": "https://localhost:8080/"
        },
        "id": "CjOMovDJIJlH",
        "outputId": "db7681e6-d32d-4f07-89a2-02e8edbaa63d"
      },
      "source": [
        "model.summary()"
      ],
      "execution_count": 9,
      "outputs": [
        {
          "output_type": "stream",
          "text": [
            "Model: \"sequential_1\"\n",
            "_________________________________________________________________\n",
            "Layer (type)                 Output Shape              Param #   \n",
            "=================================================================\n",
            "dense_2 (Dense)              (None, 100)               78500     \n",
            "_________________________________________________________________\n",
            "dense_3 (Dense)              (None, 10)                1010      \n",
            "=================================================================\n",
            "Total params: 79,510\n",
            "Trainable params: 79,510\n",
            "Non-trainable params: 0\n",
            "_________________________________________________________________\n"
          ],
          "name": "stdout"
        }
      ]
    },
    {
      "cell_type": "code",
      "metadata": {
        "colab": {
          "base_uri": "https://localhost:8080/"
        },
        "id": "KZOzTsUVIMq4",
        "outputId": "2dcaf801-d6be-423c-b406-5ef6efd81296"
      },
      "source": [
        "model.compile(loss='sparse_categorical_crossentropy', metrics='accuracy')\r\n",
        "model.fit(train_scaled, train_target, epochs=5)"
      ],
      "execution_count": 10,
      "outputs": [
        {
          "output_type": "stream",
          "text": [
            "Epoch 1/5\n",
            "1500/1500 [==============================] - 5s 3ms/step - loss: 0.7810 - accuracy: 0.7490\n",
            "Epoch 2/5\n",
            "1500/1500 [==============================] - 4s 3ms/step - loss: 0.4220 - accuracy: 0.8475\n",
            "Epoch 3/5\n",
            "1500/1500 [==============================] - 4s 3ms/step - loss: 0.3789 - accuracy: 0.8602\n",
            "Epoch 4/5\n",
            "1500/1500 [==============================] - 4s 3ms/step - loss: 0.3582 - accuracy: 0.8681\n",
            "Epoch 5/5\n",
            "1500/1500 [==============================] - 4s 3ms/step - loss: 0.3338 - accuracy: 0.8783\n"
          ],
          "name": "stdout"
        },
        {
          "output_type": "execute_result",
          "data": {
            "text/plain": [
              "<tensorflow.python.keras.callbacks.History at 0x7f13e5f5c400>"
            ]
          },
          "metadata": {
            "tags": []
          },
          "execution_count": 10
        }
      ]
    },
    {
      "cell_type": "markdown",
      "metadata": {
        "id": "HWN1q5eaJNYB"
      },
      "source": [
        "**렐루 함수**\r\n",
        "- 초창기 인공 신경망의 은닉층에 많이 사용된 활성화 함수는 시그모이드 함수, 그러나 왼쪽 끝으로 갈수록 그래프가 누워있기 때문에 올바른 출력을 만드는 데 신속하게 대응 X\r\n",
        "- 이를 개선한 렐루 함수는 입력이 양수일 경우 마치 활성화 함수가 없는 것처럼 그냥 입력을 통과시키고 음수일 경우에는 0으로 만듬\r\n",
        "- max(0, z)"
      ]
    },
    {
      "cell_type": "code",
      "metadata": {
        "id": "zmXGAKyZIfQu"
      },
      "source": [
        "model = keras.Sequential()\r\n",
        "model.add(keras.layers.Flatten(input_shape=(28, 28)))\r\n",
        "model.add(keras.layers.Dense(100, activation='relu'))\r\n",
        "model.add(keras.layers.Dense(10, activation='softmax'))"
      ],
      "execution_count": 11,
      "outputs": []
    },
    {
      "cell_type": "code",
      "metadata": {
        "colab": {
          "base_uri": "https://localhost:8080/"
        },
        "id": "5sX9oyufKKhd",
        "outputId": "3ba82f77-b01e-4f36-956d-3f7ca09439b0"
      },
      "source": [
        "model.summary()"
      ],
      "execution_count": 12,
      "outputs": [
        {
          "output_type": "stream",
          "text": [
            "Model: \"sequential_2\"\n",
            "_________________________________________________________________\n",
            "Layer (type)                 Output Shape              Param #   \n",
            "=================================================================\n",
            "flatten (Flatten)            (None, 784)               0         \n",
            "_________________________________________________________________\n",
            "dense_4 (Dense)              (None, 100)               78500     \n",
            "_________________________________________________________________\n",
            "dense_5 (Dense)              (None, 10)                1010      \n",
            "=================================================================\n",
            "Total params: 79,510\n",
            "Trainable params: 79,510\n",
            "Non-trainable params: 0\n",
            "_________________________________________________________________\n"
          ],
          "name": "stdout"
        }
      ]
    },
    {
      "cell_type": "code",
      "metadata": {
        "id": "FXiQw9AtPkEy"
      },
      "source": [
        "(train_input, train_target), (test_input, test_target) = keras.datasets.fashion_mnist.load_data()\r\n",
        "\r\n",
        "train_scaled = train_input / 255.0\r\n",
        "\r\n",
        "train_scaled, val_scaled, train_target, val_target = train_test_split(\r\n",
        "    train_scaled, train_target, test_size=0.2, random_state=42)"
      ],
      "execution_count": 13,
      "outputs": []
    },
    {
      "cell_type": "code",
      "metadata": {
        "colab": {
          "base_uri": "https://localhost:8080/"
        },
        "id": "stXgK2f3QbE2",
        "outputId": "85007648-24e1-410a-b8fb-6772852de94c"
      },
      "source": [
        "model.compile(loss='sparse_categorical_crossentropy', metrics='accuracy')\r\n",
        "\r\n",
        "model.fit(train_scaled, train_target, epochs=5)"
      ],
      "execution_count": 14,
      "outputs": [
        {
          "output_type": "stream",
          "text": [
            "Epoch 1/5\n",
            "1500/1500 [==============================] - 4s 2ms/step - loss: 0.6787 - accuracy: 0.7636\n",
            "Epoch 2/5\n",
            "1500/1500 [==============================] - 4s 3ms/step - loss: 0.4070 - accuracy: 0.8518\n",
            "Epoch 3/5\n",
            "1500/1500 [==============================] - 4s 3ms/step - loss: 0.3581 - accuracy: 0.8719\n",
            "Epoch 4/5\n",
            "1500/1500 [==============================] - 4s 3ms/step - loss: 0.3346 - accuracy: 0.8806\n",
            "Epoch 5/5\n",
            "1500/1500 [==============================] - 4s 3ms/step - loss: 0.3217 - accuracy: 0.8856\n"
          ],
          "name": "stdout"
        },
        {
          "output_type": "execute_result",
          "data": {
            "text/plain": [
              "<tensorflow.python.keras.callbacks.History at 0x7f13e39088d0>"
            ]
          },
          "metadata": {
            "tags": []
          },
          "execution_count": 14
        }
      ]
    },
    {
      "cell_type": "markdown",
      "metadata": {
        "id": "eyvCu1qspkvj"
      },
      "source": [
        "**옵티마이저**"
      ]
    },
    {
      "cell_type": "code",
      "metadata": {
        "id": "wYJPIbatQxI5"
      },
      "source": [
        "sgd = keras.optimizers.SGD(momentum=0.9, nesterov=True)"
      ],
      "execution_count": 15,
      "outputs": []
    },
    {
      "cell_type": "code",
      "metadata": {
        "id": "F3aJbJCdptT4"
      },
      "source": [
        "model = keras.Sequential()\r\n",
        "model.add(keras.layers.Flatten(input_shape=(28,28)))\r\n",
        "model.add(keras.layers.Dense(100, activation='relu'))\r\n",
        "model.add(keras.layers.Dense(10, activation='softmax'))"
      ],
      "execution_count": 16,
      "outputs": []
    },
    {
      "cell_type": "code",
      "metadata": {
        "colab": {
          "base_uri": "https://localhost:8080/"
        },
        "id": "HOVvtUXVqo1Q",
        "outputId": "0e2379cc-0c5a-4740-e2f7-3c222cc02d08"
      },
      "source": [
        "model.compile(optimizer='adam',loss='sparse_categorical_crossentropy', metrics='accuracy')\r\n",
        "\r\n",
        "model.fit(train_scaled, train_target, epochs=5)"
      ],
      "execution_count": 17,
      "outputs": [
        {
          "output_type": "stream",
          "text": [
            "Epoch 1/5\n",
            "1500/1500 [==============================] - 4s 2ms/step - loss: 0.6955 - accuracy: 0.7610\n",
            "Epoch 2/5\n",
            "1500/1500 [==============================] - 3s 2ms/step - loss: 0.3945 - accuracy: 0.8599\n",
            "Epoch 3/5\n",
            "1500/1500 [==============================] - 3s 2ms/step - loss: 0.3549 - accuracy: 0.8707\n",
            "Epoch 4/5\n",
            "1500/1500 [==============================] - 3s 2ms/step - loss: 0.3313 - accuracy: 0.8774\n",
            "Epoch 5/5\n",
            "1500/1500 [==============================] - 3s 2ms/step - loss: 0.3056 - accuracy: 0.8864\n"
          ],
          "name": "stdout"
        },
        {
          "output_type": "execute_result",
          "data": {
            "text/plain": [
              "<tensorflow.python.keras.callbacks.History at 0x7f13e2cb0208>"
            ]
          },
          "metadata": {
            "tags": []
          },
          "execution_count": 17
        }
      ]
    },
    {
      "cell_type": "code",
      "metadata": {
        "colab": {
          "base_uri": "https://localhost:8080/"
        },
        "id": "9mo4RDjOqyVc",
        "outputId": "b7f87797-fe55-409a-b5dd-7683bc52fec3"
      },
      "source": [
        "model.evaluate(val_scaled, val_target)"
      ],
      "execution_count": 18,
      "outputs": [
        {
          "output_type": "stream",
          "text": [
            "375/375 [==============================] - 1s 1ms/step - loss: 0.3397 - accuracy: 0.8769\n"
          ],
          "name": "stdout"
        },
        {
          "output_type": "execute_result",
          "data": {
            "text/plain": [
              "[0.3397446870803833, 0.8769166469573975]"
            ]
          },
          "metadata": {
            "tags": []
          },
          "execution_count": 18
        }
      ]
    }
  ]
}